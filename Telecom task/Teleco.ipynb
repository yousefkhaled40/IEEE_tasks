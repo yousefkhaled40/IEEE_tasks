{
 "cells": [
  {
   "cell_type": "code",
   "execution_count": 1,
   "id": "e042a53b",
   "metadata": {},
   "outputs": [],
   "source": [
    "import pandas as pd\n",
    "import numpy as np\n",
    "import seaborn as sns\n",
    "import matplotlib.pyplot as plt\n",
    "import warnings\n",
    "warnings.filterwarnings('ignore')"
   ]
  },
  {
   "cell_type": "code",
   "execution_count": 2,
   "id": "63b7acdd",
   "metadata": {},
   "outputs": [
    {
     "data": {
      "text/html": [
       "<div>\n",
       "<style scoped>\n",
       "    .dataframe tbody tr th:only-of-type {\n",
       "        vertical-align: middle;\n",
       "    }\n",
       "\n",
       "    .dataframe tbody tr th {\n",
       "        vertical-align: top;\n",
       "    }\n",
       "\n",
       "    .dataframe thead th {\n",
       "        text-align: right;\n",
       "    }\n",
       "</style>\n",
       "<table border=\"1\" class=\"dataframe\">\n",
       "  <thead>\n",
       "    <tr style=\"text-align: right;\">\n",
       "      <th></th>\n",
       "      <th>customerID</th>\n",
       "      <th>gender</th>\n",
       "      <th>SeniorCitizen</th>\n",
       "      <th>Partner</th>\n",
       "      <th>Dependents</th>\n",
       "      <th>tenure</th>\n",
       "      <th>PhoneService</th>\n",
       "      <th>MultipleLines</th>\n",
       "      <th>InternetService</th>\n",
       "      <th>OnlineSecurity</th>\n",
       "      <th>...</th>\n",
       "      <th>DeviceProtection</th>\n",
       "      <th>TechSupport</th>\n",
       "      <th>StreamingTV</th>\n",
       "      <th>StreamingMovies</th>\n",
       "      <th>Contract</th>\n",
       "      <th>PaperlessBilling</th>\n",
       "      <th>PaymentMethod</th>\n",
       "      <th>MonthlyCharges</th>\n",
       "      <th>TotalCharges</th>\n",
       "      <th>Churn</th>\n",
       "    </tr>\n",
       "  </thead>\n",
       "  <tbody>\n",
       "    <tr>\n",
       "      <th>0</th>\n",
       "      <td>7590-VHVEG</td>\n",
       "      <td>Female</td>\n",
       "      <td>0</td>\n",
       "      <td>Yes</td>\n",
       "      <td>No</td>\n",
       "      <td>1</td>\n",
       "      <td>No</td>\n",
       "      <td>No phone service</td>\n",
       "      <td>DSL</td>\n",
       "      <td>No</td>\n",
       "      <td>...</td>\n",
       "      <td>No</td>\n",
       "      <td>No</td>\n",
       "      <td>No</td>\n",
       "      <td>No</td>\n",
       "      <td>Month-to-month</td>\n",
       "      <td>Yes</td>\n",
       "      <td>Electronic check</td>\n",
       "      <td>29.85</td>\n",
       "      <td>29.85</td>\n",
       "      <td>No</td>\n",
       "    </tr>\n",
       "    <tr>\n",
       "      <th>1</th>\n",
       "      <td>5575-GNVDE</td>\n",
       "      <td>Male</td>\n",
       "      <td>0</td>\n",
       "      <td>No</td>\n",
       "      <td>No</td>\n",
       "      <td>34</td>\n",
       "      <td>Yes</td>\n",
       "      <td>No</td>\n",
       "      <td>DSL</td>\n",
       "      <td>Yes</td>\n",
       "      <td>...</td>\n",
       "      <td>Yes</td>\n",
       "      <td>No</td>\n",
       "      <td>No</td>\n",
       "      <td>No</td>\n",
       "      <td>One year</td>\n",
       "      <td>No</td>\n",
       "      <td>Mailed check</td>\n",
       "      <td>56.95</td>\n",
       "      <td>1889.5</td>\n",
       "      <td>No</td>\n",
       "    </tr>\n",
       "    <tr>\n",
       "      <th>2</th>\n",
       "      <td>3668-QPYBK</td>\n",
       "      <td>Male</td>\n",
       "      <td>0</td>\n",
       "      <td>No</td>\n",
       "      <td>No</td>\n",
       "      <td>2</td>\n",
       "      <td>Yes</td>\n",
       "      <td>No</td>\n",
       "      <td>DSL</td>\n",
       "      <td>Yes</td>\n",
       "      <td>...</td>\n",
       "      <td>No</td>\n",
       "      <td>No</td>\n",
       "      <td>No</td>\n",
       "      <td>No</td>\n",
       "      <td>Month-to-month</td>\n",
       "      <td>Yes</td>\n",
       "      <td>Mailed check</td>\n",
       "      <td>53.85</td>\n",
       "      <td>108.15</td>\n",
       "      <td>Yes</td>\n",
       "    </tr>\n",
       "    <tr>\n",
       "      <th>3</th>\n",
       "      <td>7795-CFOCW</td>\n",
       "      <td>Male</td>\n",
       "      <td>0</td>\n",
       "      <td>No</td>\n",
       "      <td>No</td>\n",
       "      <td>45</td>\n",
       "      <td>No</td>\n",
       "      <td>No phone service</td>\n",
       "      <td>DSL</td>\n",
       "      <td>Yes</td>\n",
       "      <td>...</td>\n",
       "      <td>Yes</td>\n",
       "      <td>Yes</td>\n",
       "      <td>No</td>\n",
       "      <td>No</td>\n",
       "      <td>One year</td>\n",
       "      <td>No</td>\n",
       "      <td>Bank transfer (automatic)</td>\n",
       "      <td>42.30</td>\n",
       "      <td>1840.75</td>\n",
       "      <td>No</td>\n",
       "    </tr>\n",
       "    <tr>\n",
       "      <th>4</th>\n",
       "      <td>9237-HQITU</td>\n",
       "      <td>Female</td>\n",
       "      <td>0</td>\n",
       "      <td>No</td>\n",
       "      <td>No</td>\n",
       "      <td>2</td>\n",
       "      <td>Yes</td>\n",
       "      <td>No</td>\n",
       "      <td>Fiber optic</td>\n",
       "      <td>No</td>\n",
       "      <td>...</td>\n",
       "      <td>No</td>\n",
       "      <td>No</td>\n",
       "      <td>No</td>\n",
       "      <td>No</td>\n",
       "      <td>Month-to-month</td>\n",
       "      <td>Yes</td>\n",
       "      <td>Electronic check</td>\n",
       "      <td>70.70</td>\n",
       "      <td>151.65</td>\n",
       "      <td>Yes</td>\n",
       "    </tr>\n",
       "  </tbody>\n",
       "</table>\n",
       "<p>5 rows × 21 columns</p>\n",
       "</div>"
      ],
      "text/plain": [
       "   customerID  gender  SeniorCitizen Partner Dependents  tenure PhoneService  \\\n",
       "0  7590-VHVEG  Female              0     Yes         No       1           No   \n",
       "1  5575-GNVDE    Male              0      No         No      34          Yes   \n",
       "2  3668-QPYBK    Male              0      No         No       2          Yes   \n",
       "3  7795-CFOCW    Male              0      No         No      45           No   \n",
       "4  9237-HQITU  Female              0      No         No       2          Yes   \n",
       "\n",
       "      MultipleLines InternetService OnlineSecurity  ... DeviceProtection  \\\n",
       "0  No phone service             DSL             No  ...               No   \n",
       "1                No             DSL            Yes  ...              Yes   \n",
       "2                No             DSL            Yes  ...               No   \n",
       "3  No phone service             DSL            Yes  ...              Yes   \n",
       "4                No     Fiber optic             No  ...               No   \n",
       "\n",
       "  TechSupport StreamingTV StreamingMovies        Contract PaperlessBilling  \\\n",
       "0          No          No              No  Month-to-month              Yes   \n",
       "1          No          No              No        One year               No   \n",
       "2          No          No              No  Month-to-month              Yes   \n",
       "3         Yes          No              No        One year               No   \n",
       "4          No          No              No  Month-to-month              Yes   \n",
       "\n",
       "               PaymentMethod MonthlyCharges  TotalCharges Churn  \n",
       "0           Electronic check          29.85         29.85    No  \n",
       "1               Mailed check          56.95        1889.5    No  \n",
       "2               Mailed check          53.85        108.15   Yes  \n",
       "3  Bank transfer (automatic)          42.30       1840.75    No  \n",
       "4           Electronic check          70.70        151.65   Yes  \n",
       "\n",
       "[5 rows x 21 columns]"
      ]
     },
     "execution_count": 2,
     "metadata": {},
     "output_type": "execute_result"
    }
   ],
   "source": [
    "df = pd.read_csv('WA_Fn-UseC_-Telco-Customer-Churn.csv')\n",
    "df.head()"
   ]
  },
  {
   "cell_type": "code",
   "execution_count": 3,
   "id": "520cdcf5",
   "metadata": {},
   "outputs": [
    {
     "data": {
      "text/plain": [
       "(7043, 21)"
      ]
     },
     "execution_count": 3,
     "metadata": {},
     "output_type": "execute_result"
    }
   ],
   "source": [
    "df.shape"
   ]
  },
  {
   "cell_type": "code",
   "execution_count": 4,
   "id": "547803a9",
   "metadata": {},
   "outputs": [
    {
     "data": {
      "text/plain": [
       "Index(['customerID', 'gender', 'SeniorCitizen', 'Partner', 'Dependents',\n",
       "       'tenure', 'PhoneService', 'MultipleLines', 'InternetService',\n",
       "       'OnlineSecurity', 'OnlineBackup', 'DeviceProtection', 'TechSupport',\n",
       "       'StreamingTV', 'StreamingMovies', 'Contract', 'PaperlessBilling',\n",
       "       'PaymentMethod', 'MonthlyCharges', 'TotalCharges', 'Churn'],\n",
       "      dtype='object')"
      ]
     },
     "execution_count": 4,
     "metadata": {},
     "output_type": "execute_result"
    }
   ],
   "source": [
    "df.columns"
   ]
  },
  {
   "cell_type": "code",
   "execution_count": 5,
   "id": "1481aacc",
   "metadata": {},
   "outputs": [
    {
     "data": {
      "text/html": [
       "<div>\n",
       "<style scoped>\n",
       "    .dataframe tbody tr th:only-of-type {\n",
       "        vertical-align: middle;\n",
       "    }\n",
       "\n",
       "    .dataframe tbody tr th {\n",
       "        vertical-align: top;\n",
       "    }\n",
       "\n",
       "    .dataframe thead th {\n",
       "        text-align: right;\n",
       "    }\n",
       "</style>\n",
       "<table border=\"1\" class=\"dataframe\">\n",
       "  <thead>\n",
       "    <tr style=\"text-align: right;\">\n",
       "      <th></th>\n",
       "      <th>customerID</th>\n",
       "      <th>gender</th>\n",
       "      <th>SeniorCitizen</th>\n",
       "      <th>Partner</th>\n",
       "      <th>Dependents</th>\n",
       "      <th>tenure</th>\n",
       "      <th>PhoneService</th>\n",
       "      <th>MultipleLines</th>\n",
       "      <th>InternetService</th>\n",
       "      <th>OnlineSecurity</th>\n",
       "      <th>...</th>\n",
       "      <th>DeviceProtection</th>\n",
       "      <th>TechSupport</th>\n",
       "      <th>StreamingTV</th>\n",
       "      <th>StreamingMovies</th>\n",
       "      <th>Contract</th>\n",
       "      <th>PaperlessBilling</th>\n",
       "      <th>PaymentMethod</th>\n",
       "      <th>MonthlyCharges</th>\n",
       "      <th>TotalCharges</th>\n",
       "      <th>Churn</th>\n",
       "    </tr>\n",
       "  </thead>\n",
       "  <tbody>\n",
       "  </tbody>\n",
       "</table>\n",
       "<p>0 rows × 21 columns</p>\n",
       "</div>"
      ],
      "text/plain": [
       "Empty DataFrame\n",
       "Columns: [customerID, gender, SeniorCitizen, Partner, Dependents, tenure, PhoneService, MultipleLines, InternetService, OnlineSecurity, OnlineBackup, DeviceProtection, TechSupport, StreamingTV, StreamingMovies, Contract, PaperlessBilling, PaymentMethod, MonthlyCharges, TotalCharges, Churn]\n",
       "Index: []\n",
       "\n",
       "[0 rows x 21 columns]"
      ]
     },
     "execution_count": 5,
     "metadata": {},
     "output_type": "execute_result"
    }
   ],
   "source": [
    "df[df.duplicated()]"
   ]
  },
  {
   "cell_type": "code",
   "execution_count": 6,
   "id": "0496b7b0",
   "metadata": {
    "scrolled": false
   },
   "outputs": [
    {
     "data": {
      "text/plain": [
       "customerID          0\n",
       "gender              0\n",
       "SeniorCitizen       0\n",
       "Partner             0\n",
       "Dependents          0\n",
       "tenure              0\n",
       "PhoneService        0\n",
       "MultipleLines       0\n",
       "InternetService     0\n",
       "OnlineSecurity      0\n",
       "OnlineBackup        0\n",
       "DeviceProtection    0\n",
       "TechSupport         0\n",
       "StreamingTV         0\n",
       "StreamingMovies     0\n",
       "Contract            0\n",
       "PaperlessBilling    0\n",
       "PaymentMethod       0\n",
       "MonthlyCharges      0\n",
       "TotalCharges        0\n",
       "Churn               0\n",
       "dtype: int64"
      ]
     },
     "execution_count": 6,
     "metadata": {},
     "output_type": "execute_result"
    }
   ],
   "source": [
    "df.isna().sum()"
   ]
  },
  {
   "cell_type": "code",
   "execution_count": 7,
   "id": "ee4732b7",
   "metadata": {
    "scrolled": false
   },
   "outputs": [],
   "source": [
    "def summary():\n",
    "    for column in df.columns:\n",
    "        print(column+\": \")\n",
    "        print(\"number of unique values:\",df[column].nunique())\n",
    "        print(df[column].unique()[0:50])\n",
    "        if df[column].nunique()<=3:\n",
    "            print(df[column].value_counts())\n",
    "        print('-'*50)"
   ]
  },
  {
   "cell_type": "code",
   "execution_count": 8,
   "id": "2780dd01",
   "metadata": {
    "scrolled": false
   },
   "outputs": [
    {
     "name": "stdout",
     "output_type": "stream",
     "text": [
      "customerID: \n",
      "number of unique values: 7043\n",
      "['7590-VHVEG' '5575-GNVDE' '3668-QPYBK' '7795-CFOCW' '9237-HQITU'\n",
      " '9305-CDSKC' '1452-KIOVK' '6713-OKOMC' '7892-POOKP' '6388-TABGU'\n",
      " '9763-GRSKD' '7469-LKBCI' '8091-TTVAX' '0280-XJGEX' '5129-JLPIS'\n",
      " '3655-SNQYZ' '8191-XWSZG' '9959-WOFKT' '4190-MFLUW' '4183-MYFRB'\n",
      " '8779-QRDMV' '1680-VDCWW' '1066-JKSGK' '3638-WEABW' '6322-HRPFA'\n",
      " '6865-JZNKO' '6467-CHFZW' '8665-UTDHZ' '5248-YGIJN' '8773-HHUOZ'\n",
      " '3841-NFECX' '4929-XIHVW' '6827-IEAUQ' '7310-EGVHZ' '3413-BMNZE'\n",
      " '6234-RAAPL' '6047-YHPVI' '6572-ADKRS' '5380-WJKOV' '8168-UQWWF'\n",
      " '8865-TNMNX' '9489-DEDVP' '9867-JCZSP' '4671-VJLCL' '4080-IIARD'\n",
      " '3714-NTNFO' '5948-UJZLF' '7760-OYPDY' '7639-LIAYI' '2954-PIBKO']\n",
      "--------------------------------------------------\n",
      "gender: \n",
      "number of unique values: 2\n",
      "['Female' 'Male']\n",
      "Male      3555\n",
      "Female    3488\n",
      "Name: gender, dtype: int64\n",
      "--------------------------------------------------\n",
      "SeniorCitizen: \n",
      "number of unique values: 2\n",
      "[0 1]\n",
      "0    5901\n",
      "1    1142\n",
      "Name: SeniorCitizen, dtype: int64\n",
      "--------------------------------------------------\n",
      "Partner: \n",
      "number of unique values: 2\n",
      "['Yes' 'No']\n",
      "No     3641\n",
      "Yes    3402\n",
      "Name: Partner, dtype: int64\n",
      "--------------------------------------------------\n",
      "Dependents: \n",
      "number of unique values: 2\n",
      "['No' 'Yes']\n",
      "No     4933\n",
      "Yes    2110\n",
      "Name: Dependents, dtype: int64\n",
      "--------------------------------------------------\n",
      "tenure: \n",
      "number of unique values: 73\n",
      "[ 1 34  2 45  8 22 10 28 62 13 16 58 49 25 69 52 71 21 12 30 47 72 17 27\n",
      "  5 46 11 70 63 43 15 60 18 66  9  3 31 50 64 56  7 42 35 48 29 65 38 68\n",
      " 32 55]\n",
      "--------------------------------------------------\n",
      "PhoneService: \n",
      "number of unique values: 2\n",
      "['No' 'Yes']\n",
      "Yes    6361\n",
      "No      682\n",
      "Name: PhoneService, dtype: int64\n",
      "--------------------------------------------------\n",
      "MultipleLines: \n",
      "number of unique values: 3\n",
      "['No phone service' 'No' 'Yes']\n",
      "No                  3390\n",
      "Yes                 2971\n",
      "No phone service     682\n",
      "Name: MultipleLines, dtype: int64\n",
      "--------------------------------------------------\n",
      "InternetService: \n",
      "number of unique values: 3\n",
      "['DSL' 'Fiber optic' 'No']\n",
      "Fiber optic    3096\n",
      "DSL            2421\n",
      "No             1526\n",
      "Name: InternetService, dtype: int64\n",
      "--------------------------------------------------\n",
      "OnlineSecurity: \n",
      "number of unique values: 3\n",
      "['No' 'Yes' 'No internet service']\n",
      "No                     3498\n",
      "Yes                    2019\n",
      "No internet service    1526\n",
      "Name: OnlineSecurity, dtype: int64\n",
      "--------------------------------------------------\n",
      "OnlineBackup: \n",
      "number of unique values: 3\n",
      "['Yes' 'No' 'No internet service']\n",
      "No                     3088\n",
      "Yes                    2429\n",
      "No internet service    1526\n",
      "Name: OnlineBackup, dtype: int64\n",
      "--------------------------------------------------\n",
      "DeviceProtection: \n",
      "number of unique values: 3\n",
      "['No' 'Yes' 'No internet service']\n",
      "No                     3095\n",
      "Yes                    2422\n",
      "No internet service    1526\n",
      "Name: DeviceProtection, dtype: int64\n",
      "--------------------------------------------------\n",
      "TechSupport: \n",
      "number of unique values: 3\n",
      "['No' 'Yes' 'No internet service']\n",
      "No                     3473\n",
      "Yes                    2044\n",
      "No internet service    1526\n",
      "Name: TechSupport, dtype: int64\n",
      "--------------------------------------------------\n",
      "StreamingTV: \n",
      "number of unique values: 3\n",
      "['No' 'Yes' 'No internet service']\n",
      "No                     2810\n",
      "Yes                    2707\n",
      "No internet service    1526\n",
      "Name: StreamingTV, dtype: int64\n",
      "--------------------------------------------------\n",
      "StreamingMovies: \n",
      "number of unique values: 3\n",
      "['No' 'Yes' 'No internet service']\n",
      "No                     2785\n",
      "Yes                    2732\n",
      "No internet service    1526\n",
      "Name: StreamingMovies, dtype: int64\n",
      "--------------------------------------------------\n",
      "Contract: \n",
      "number of unique values: 3\n",
      "['Month-to-month' 'One year' 'Two year']\n",
      "Month-to-month    3875\n",
      "Two year          1695\n",
      "One year          1473\n",
      "Name: Contract, dtype: int64\n",
      "--------------------------------------------------\n",
      "PaperlessBilling: \n",
      "number of unique values: 2\n",
      "['Yes' 'No']\n",
      "Yes    4171\n",
      "No     2872\n",
      "Name: PaperlessBilling, dtype: int64\n",
      "--------------------------------------------------\n",
      "PaymentMethod: \n",
      "number of unique values: 4\n",
      "['Electronic check' 'Mailed check' 'Bank transfer (automatic)'\n",
      " 'Credit card (automatic)']\n",
      "--------------------------------------------------\n",
      "MonthlyCharges: \n",
      "number of unique values: 1585\n",
      "[ 29.85  56.95  53.85  42.3   70.7   99.65  89.1   29.75 104.8   56.15\n",
      "  49.95  18.95 100.35 103.7  105.5  113.25  20.65 106.7   55.2   90.05\n",
      "  39.65  19.8   20.15  59.9   59.6   55.3   99.35  30.2   90.25  64.7\n",
      "  96.35  95.5   66.15  20.2   45.25  99.9   69.7   74.8  106.35  97.85\n",
      "  49.55  69.2   20.75  79.85  76.2   84.5   49.25  80.65  79.75  64.15]\n",
      "--------------------------------------------------\n",
      "TotalCharges: \n",
      "number of unique values: 6531\n",
      "['29.85' '1889.5' '108.15' '1840.75' '151.65' '820.5' '1949.4' '301.9'\n",
      " '3046.05' '3487.95' '587.45' '326.8' '5681.1' '5036.3' '2686.05'\n",
      " '7895.15' '1022.95' '7382.25' '528.35' '1862.9' '39.65' '202.25' '20.15'\n",
      " '3505.1' '2970.3' '1530.6' '4749.15' '30.2' '6369.45' '1093.1' '6766.95'\n",
      " '181.65' '1874.45' '20.2' '45.25' '7251.7' '316.9' '3548.3' '3549.25'\n",
      " '1105.4' '475.7' '4872.35' '418.25' '4861.45' '981.45' '3906.7' '97'\n",
      " '144.15' '4217.8' '4254.1']\n",
      "--------------------------------------------------\n",
      "Churn: \n",
      "number of unique values: 2\n",
      "['No' 'Yes']\n",
      "No     5174\n",
      "Yes    1869\n",
      "Name: Churn, dtype: int64\n",
      "--------------------------------------------------\n"
     ]
    }
   ],
   "source": [
    "summary()"
   ]
  },
  {
   "cell_type": "code",
   "execution_count": 9,
   "id": "7a465160",
   "metadata": {},
   "outputs": [],
   "source": [
    "df.drop(['customerID', 'gender', 'SeniorCitizen', 'Partner','Dependents'], axis=1, inplace=True)"
   ]
  },
  {
   "cell_type": "code",
   "execution_count": 10,
   "id": "38ea6a1c",
   "metadata": {
    "scrolled": false
   },
   "outputs": [
    {
     "data": {
      "text/plain": [
       "Index(['tenure', 'PhoneService', 'MultipleLines', 'InternetService',\n",
       "       'OnlineSecurity', 'OnlineBackup', 'DeviceProtection', 'TechSupport',\n",
       "       'StreamingTV', 'StreamingMovies', 'Contract', 'PaperlessBilling',\n",
       "       'PaymentMethod', 'MonthlyCharges', 'TotalCharges', 'Churn'],\n",
       "      dtype='object')"
      ]
     },
     "execution_count": 10,
     "metadata": {},
     "output_type": "execute_result"
    }
   ],
   "source": [
    "df.columns"
   ]
  },
  {
   "cell_type": "code",
   "execution_count": 11,
   "id": "d4149edb",
   "metadata": {
    "scrolled": true
   },
   "outputs": [
    {
     "data": {
      "text/plain": [
       "No     512\n",
       "Yes    170\n",
       "Name: Churn, dtype: int64"
      ]
     },
     "execution_count": 11,
     "metadata": {},
     "output_type": "execute_result"
    }
   ],
   "source": [
    "df[df['PhoneService']== 'No']['Churn'].value_counts()"
   ]
  },
  {
   "cell_type": "code",
   "execution_count": 12,
   "id": "cfad5ed6",
   "metadata": {},
   "outputs": [
    {
     "name": "stdout",
     "output_type": "stream",
     "text": [
      "<class 'pandas.core.frame.DataFrame'>\n",
      "RangeIndex: 7043 entries, 0 to 7042\n",
      "Data columns (total 16 columns):\n",
      " #   Column            Non-Null Count  Dtype  \n",
      "---  ------            --------------  -----  \n",
      " 0   tenure            7043 non-null   int64  \n",
      " 1   PhoneService      7043 non-null   object \n",
      " 2   MultipleLines     7043 non-null   object \n",
      " 3   InternetService   7043 non-null   object \n",
      " 4   OnlineSecurity    7043 non-null   object \n",
      " 5   OnlineBackup      7043 non-null   object \n",
      " 6   DeviceProtection  7043 non-null   object \n",
      " 7   TechSupport       7043 non-null   object \n",
      " 8   StreamingTV       7043 non-null   object \n",
      " 9   StreamingMovies   7043 non-null   object \n",
      " 10  Contract          7043 non-null   object \n",
      " 11  PaperlessBilling  7043 non-null   object \n",
      " 12  PaymentMethod     7043 non-null   object \n",
      " 13  MonthlyCharges    7043 non-null   float64\n",
      " 14  TotalCharges      7043 non-null   object \n",
      " 15  Churn             7043 non-null   object \n",
      "dtypes: float64(1), int64(1), object(14)\n",
      "memory usage: 880.5+ KB\n"
     ]
    }
   ],
   "source": [
    "df.info()"
   ]
  },
  {
   "cell_type": "code",
   "execution_count": 13,
   "id": "d6173a05",
   "metadata": {},
   "outputs": [],
   "source": [
    "from sklearn.preprocessing import LabelEncoder\n",
    "from sklearn.model_selection import train_test_split"
   ]
  },
  {
   "cell_type": "code",
   "execution_count": 14,
   "id": "faf1b1eb",
   "metadata": {},
   "outputs": [],
   "source": [
    "le = LabelEncoder()\n",
    "for column in df.columns:\n",
    "    if df[column].dtype=='object':\n",
    "        df[column] = le.fit_transform(df[column])"
   ]
  },
  {
   "cell_type": "code",
   "execution_count": 15,
   "id": "f3e48136",
   "metadata": {
    "scrolled": false
   },
   "outputs": [
    {
     "name": "stdout",
     "output_type": "stream",
     "text": [
      "tenure: \n",
      "number of unique values: 73\n",
      "[ 1 34  2 45  8 22 10 28 62 13 16 58 49 25 69 52 71 21 12 30 47 72 17 27\n",
      "  5 46 11 70 63 43 15 60 18 66  9  3 31 50 64 56  7 42 35 48 29 65 38 68\n",
      " 32 55]\n",
      "--------------------------------------------------\n",
      "PhoneService: \n",
      "number of unique values: 2\n",
      "[0 1]\n",
      "1    6361\n",
      "0     682\n",
      "Name: PhoneService, dtype: int64\n",
      "--------------------------------------------------\n",
      "MultipleLines: \n",
      "number of unique values: 3\n",
      "[1 0 2]\n",
      "0    3390\n",
      "2    2971\n",
      "1     682\n",
      "Name: MultipleLines, dtype: int64\n",
      "--------------------------------------------------\n",
      "InternetService: \n",
      "number of unique values: 3\n",
      "[0 1 2]\n",
      "1    3096\n",
      "0    2421\n",
      "2    1526\n",
      "Name: InternetService, dtype: int64\n",
      "--------------------------------------------------\n",
      "OnlineSecurity: \n",
      "number of unique values: 3\n",
      "[0 2 1]\n",
      "0    3498\n",
      "2    2019\n",
      "1    1526\n",
      "Name: OnlineSecurity, dtype: int64\n",
      "--------------------------------------------------\n",
      "OnlineBackup: \n",
      "number of unique values: 3\n",
      "[2 0 1]\n",
      "0    3088\n",
      "2    2429\n",
      "1    1526\n",
      "Name: OnlineBackup, dtype: int64\n",
      "--------------------------------------------------\n",
      "DeviceProtection: \n",
      "number of unique values: 3\n",
      "[0 2 1]\n",
      "0    3095\n",
      "2    2422\n",
      "1    1526\n",
      "Name: DeviceProtection, dtype: int64\n",
      "--------------------------------------------------\n",
      "TechSupport: \n",
      "number of unique values: 3\n",
      "[0 2 1]\n",
      "0    3473\n",
      "2    2044\n",
      "1    1526\n",
      "Name: TechSupport, dtype: int64\n",
      "--------------------------------------------------\n",
      "StreamingTV: \n",
      "number of unique values: 3\n",
      "[0 2 1]\n",
      "0    2810\n",
      "2    2707\n",
      "1    1526\n",
      "Name: StreamingTV, dtype: int64\n",
      "--------------------------------------------------\n",
      "StreamingMovies: \n",
      "number of unique values: 3\n",
      "[0 2 1]\n",
      "0    2785\n",
      "2    2732\n",
      "1    1526\n",
      "Name: StreamingMovies, dtype: int64\n",
      "--------------------------------------------------\n",
      "Contract: \n",
      "number of unique values: 3\n",
      "[0 1 2]\n",
      "0    3875\n",
      "2    1695\n",
      "1    1473\n",
      "Name: Contract, dtype: int64\n",
      "--------------------------------------------------\n",
      "PaperlessBilling: \n",
      "number of unique values: 2\n",
      "[1 0]\n",
      "1    4171\n",
      "0    2872\n",
      "Name: PaperlessBilling, dtype: int64\n",
      "--------------------------------------------------\n",
      "PaymentMethod: \n",
      "number of unique values: 4\n",
      "[2 3 0 1]\n",
      "--------------------------------------------------\n",
      "MonthlyCharges: \n",
      "number of unique values: 1585\n",
      "[ 29.85  56.95  53.85  42.3   70.7   99.65  89.1   29.75 104.8   56.15\n",
      "  49.95  18.95 100.35 103.7  105.5  113.25  20.65 106.7   55.2   90.05\n",
      "  39.65  19.8   20.15  59.9   59.6   55.3   99.35  30.2   90.25  64.7\n",
      "  96.35  95.5   66.15  20.2   45.25  99.9   69.7   74.8  106.35  97.85\n",
      "  49.55  69.2   20.75  79.85  76.2   84.5   49.25  80.65  79.75  64.15]\n",
      "--------------------------------------------------\n",
      "TotalCharges: \n",
      "number of unique values: 6531\n",
      "[2505 1466  157 1400  925 6104 1550 2609 2646 3022 4823 2836 4693 4265\n",
      " 2337 5959   46 5704 4416 1433 3340 1651 1609 3041 2567  959 4019 2592\n",
      " 5135  184 5354 1360 1449 1610 3815 5644 2742 3073 3074  202 4024 4118\n",
      " 3572 4105 6503 3348 6481  809 3599 3625]\n",
      "--------------------------------------------------\n",
      "Churn: \n",
      "number of unique values: 2\n",
      "[0 1]\n",
      "0    5174\n",
      "1    1869\n",
      "Name: Churn, dtype: int64\n",
      "--------------------------------------------------\n"
     ]
    }
   ],
   "source": [
    "summary()"
   ]
  },
  {
   "cell_type": "code",
   "execution_count": 16,
   "id": "c29d84d1",
   "metadata": {},
   "outputs": [],
   "source": [
    "x=df.drop('Churn', axis=1)\n",
    "y=df['Churn']"
   ]
  },
  {
   "cell_type": "code",
   "execution_count": 17,
   "id": "c403948d",
   "metadata": {},
   "outputs": [],
   "source": [
    "xtrain, xtest, ytrain, ytest = train_test_split(x, y, test_size=0.15, random_state=42)"
   ]
  },
  {
   "cell_type": "code",
   "execution_count": 18,
   "id": "4fd3b964",
   "metadata": {},
   "outputs": [
    {
     "data": {
      "text/plain": [
       "(5986, 15)"
      ]
     },
     "execution_count": 18,
     "metadata": {},
     "output_type": "execute_result"
    }
   ],
   "source": [
    "xtrain.shape"
   ]
  },
  {
   "cell_type": "code",
   "execution_count": 19,
   "id": "9539583f",
   "metadata": {},
   "outputs": [],
   "source": [
    "from sklearn.neighbors import KNeighborsClassifier\n",
    "knn = KNeighborsClassifier(n_neighbors=17)\n",
    "knn.fit(xtrain, ytrain)\n",
    "ypred = knn.predict(xtest)"
   ]
  },
  {
   "cell_type": "code",
   "execution_count": 20,
   "id": "da7f4b93",
   "metadata": {},
   "outputs": [
    {
     "name": "stdout",
     "output_type": "stream",
     "text": [
      "Accuracy: 0.771050141911069\n"
     ]
    }
   ],
   "source": [
    "from sklearn import metrics\n",
    "print(\"Accuracy:\",metrics.accuracy_score(ytest, ypred))"
   ]
  },
  {
   "cell_type": "code",
   "execution_count": null,
   "id": "879cff7d",
   "metadata": {},
   "outputs": [],
   "source": []
  }
 ],
 "metadata": {
  "kernelspec": {
   "display_name": "Python 3 (ipykernel)",
   "language": "python",
   "name": "python3"
  },
  "language_info": {
   "codemirror_mode": {
    "name": "ipython",
    "version": 3
   },
   "file_extension": ".py",
   "mimetype": "text/x-python",
   "name": "python",
   "nbconvert_exporter": "python",
   "pygments_lexer": "ipython3",
   "version": "3.9.13"
  }
 },
 "nbformat": 4,
 "nbformat_minor": 5
}
